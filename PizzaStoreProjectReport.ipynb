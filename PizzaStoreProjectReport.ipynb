{
 "cells": [
  {
   "cell_type": "markdown",
   "metadata": {
    "collapsed": true
   },
   "source": [
    "<H1>Introduction/Business Problem</H1>\n",
    "\n",
    "A new Worldwide Pizza Chain wants to open their stores in Toronto .\n",
    "They have a Big Brand name , To start with they want to do the following \n",
    "\n",
    "1) They want to open 5 Pizza stores in Toronto  , \n",
    "   they want to open stores in such a way that that they have coverage for entire city.\n",
    "\n",
    "2) they want to divide the city into Four zones , Each zone will have one store \n",
    "   and Pizza wil be  delivered from that store to locations in that zone .\n",
    "\n",
    "3) In each zone for opening the store , 3 areas will be chosen where they have maximum number of  venues ,\n",
    "   Then marketing dept will look for suitable place in that area .\n",
    "   If there are more than 20 venues at more than multiple locations then we look for top 3 places which have maximum pizza store.\n",
    "   If there are less than 20 venues at all locations then we look for only 1 top  places which have maximum pizza store"
   ]
  },
  {
   "cell_type": "markdown",
   "metadata": {},
   "source": [
    "<H1>Data Section</H1>\n",
    "\n",
    "A description of the data and how it will be used to solve the problem\n",
    "\n",
    "1) We will be using toronto Postal code data containing boroughs and neighbourhood from  wikipedia page \n",
    "   https://en.wikipedia.org/wiki/List_of_postal_codes_of_Canada:_M \n",
    "   \n",
    "2) Then we will fetch Latititude and longitude for each postal code.\n",
    "\n",
    "3) We will be dividing the city into four zones or clusters  this will be done using k-means algorithm \n",
    "\n",
    "4) Once city is divided into four region then we will use four square data to identify 3 locations in each zone which has maximum number of venues , once these locations are identified we have 3 places in each zone where store can be opened ."
   ]
  },
  {
   "cell_type": "markdown",
   "metadata": {},
   "source": [
    "<H1>Methodology section</H1>\n",
    "\n",
    "We first loaded all the postalcodes into a dataframe froma wikipedia page , then foreach postal code we fetched the co-ordinates ( latititude and Longitude).\n",
    "Once this data was ready we dropped the neighbourgood column and did clustering using K-MEAN algorithm.\n",
    "This alogorithm helped us divide the region of Toronto into 5 clusters.\n",
    "\n",
    "Once we had 5 clusters now we have to identify the locations for opening the store , \n",
    "\n",
    "Now we fetch the data releated to ll neighbourhoods ( the venues in those neighbourhood, their co-ordinates and what category they fall into).\n",
    "\n",
    "Then we see which neighbourhood within a cluster has maximum venues ,\n",
    "\n",
    "if in a cluster multiple neighbourhood having more than 20 venues , then we see which places maximum number of pizza places then we choose those places.( 3 neighbourhood)\n",
    "\n",
    "if in a cluster multiple neighbourhood having less than 20 venues , then we pick up only 1 neighbourhood having maximum pizza places\n"
   ]
  },
  {
   "cell_type": "markdown",
   "metadata": {},
   "source": [
    "<H1>Results section</H1>\n",
    "\n",
    "We divided toronto Area into 5 clusters starting from Cluster0 to Cluster4.\n",
    "\n",
    "Clusters having 3 places are the cluster where all 3 neighourhood had more than 20 venues , 3 clusters were chosen to identify the location at  right price further which is out of the scope of this project .\n",
    "\n",
    "cluster where only 1 place is choses because none of the neighbourhood in that cluster had more than 20 venues so only 1 place was choses \n",
    "\n",
    "Places identified in Cluster0 are 'Union Station' , 'Toronto Islands' ,'Harbourfront East' \n",
    "\n",
    "Places identified in Cluster1 are 'Swansea' , 'High Park' ,'The Junction South' \n",
    "\n",
    "Place identified in Cluster2 is 'Parkview Hill' \n",
    "\n",
    "Places identified in Cluster3 are 'Fairview' , 'Oriole' ,'Henry Farm' \n",
    "\n",
    "Place identified in Cluster4 is 'Westmount'"
   ]
  },
  {
   "cell_type": "markdown",
   "metadata": {},
   "source": [
    "<H1>Discussion section</H1>\n",
    "\n",
    "Reason behind choosing places having maximum venues and then maximum pizza places is that we wanted to open store where there is maximum footfall ( number of people visitng that location ) , since the brand name is big ,  People will come to restaurant and where existing pizza places are there they might be near to Offices , Shopping or metro location . So We decided the open the stores in the places where people visit more.\n",
    "\n",
    "We also did chose 3 locations in crowded places , since we might get into issues in finding space for pizza place at right price , since we have 3 places to open a store in that cluster we will choose the best availlable place at right price.\n",
    "Location where venues are less we only choose 1 place since it should be an issue to find a place there.\n",
    "\n",
    "Also as a recommendation I would prefer and suggest to company to open more pizza places in Cluster 0 , since cluster 0 has many places were number of venues is more than 100 , the store in this cluster is expected to be crowded and Busy . Until they decide to open more locations in Cluster 0 , they should at least have more staff working at that place."
   ]
  },
  {
   "cell_type": "markdown",
   "metadata": {},
   "source": [
    "<H1>Conclusion</H1>\n",
    "\n",
    "Probable places to open a pizza store in Toronto Region has been identified . Since Company is getting into Torornto area, so opening 4 stores across Toronto is a good starting point and with time for expansion more stores located in cluster0 should come up . Number of Staff memebers should be more in Cluster0 region than other regions\n",
    "depending on orders or expected orders. As of now places identified for each cluster are below .\n",
    "\n",
    "Places identified in Cluster0 are 'Union Station' , 'Toronto Islands' ,'Harbourfront East'\n",
    "\n",
    "Places identified in Cluster1 are 'Swansea' , 'High Park' ,'The Junction South'\n",
    "\n",
    "Place identified in Cluster2 is 'Parkview Hill'\n",
    "\n",
    "Places identified in Cluster3 are 'Fairview' , 'Oriole' ,'Henry Farm'\n",
    "\n",
    "Place identified in Cluster4 is 'Westmount'\n",
    "\n",
    "\n",
    "\n"
   ]
  },
  {
   "cell_type": "code",
   "execution_count": null,
   "metadata": {},
   "outputs": [],
   "source": []
  }
 ],
 "metadata": {
  "kernelspec": {
   "display_name": "Python 3.5 with Spark",
   "language": "python3",
   "name": "python3"
  },
  "language_info": {
   "codemirror_mode": {
    "name": "ipython",
    "version": 3
   },
   "file_extension": ".py",
   "mimetype": "text/x-python",
   "name": "python",
   "nbconvert_exporter": "python",
   "pygments_lexer": "ipython3",
   "version": "3.5.4"
  }
 },
 "nbformat": 4,
 "nbformat_minor": 1
}
